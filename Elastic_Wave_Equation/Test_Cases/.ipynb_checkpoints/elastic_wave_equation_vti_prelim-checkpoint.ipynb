{
 "cells": [
  {
   "cell_type": "code",
   "execution_count": 119,
   "metadata": {},
   "outputs": [],
   "source": [
    "# Modelling 2D VTI in Devito.\n",
    "# Defined by elastic tensor components\n",
    "# First attempt using a centered source"
   ]
  },
  {
   "cell_type": "code",
   "execution_count": 212,
   "metadata": {},
   "outputs": [],
   "source": [
    "from devito import *\n",
    "from examples.seismic.source import RickerSource, TimeAxis\n",
    "from examples.seismic import plot_image, Model\n",
    "import numpy as np\n",
    "\n",
    "from sympy import init_printing, latex\n",
    "init_printing(use_latex=True)\n",
    "\n",
    "%matplotlib qt"
   ]
  },
  {
   "cell_type": "code",
   "execution_count": 213,
   "metadata": {},
   "outputs": [],
   "source": [
    "extent = (150., 150.)\n",
    "# Grid is 2km x 2km with spacing 10m\n",
    "shape = (151, 151)\n",
    "\n",
    "# Define x and z as spatial dimentions for Sympy\n",
    "x = SpaceDimension(name='x', spacing=Constant(name='h_x', value=extent[0]/(shape[0]-1)))\n",
    "# Dimension called x, with constant spacing of 10 (called h_x) \n",
    "z = SpaceDimension(name='z', spacing=Constant(name='h_z', value=extent[1]/(shape[1]-1)))\n",
    "grid = Grid(extent=extent, shape=shape, dimensions=(x, z))"
   ]
  },
  {
   "cell_type": "code",
   "execution_count": 214,
   "metadata": {},
   "outputs": [],
   "source": [
    "t0, tn = 0., 75.\n",
    "dt = (1. / np.sqrt(2.)) / 2500.\n",
    "time_range = TimeAxis(start=t0, stop=tn, step=dt) #Set up time axis object for ricker source\n",
    "\n",
    "src = RickerSource(name='src', grid=grid, f0=0.100, time_range=time_range) # Ricker wavelet source\n",
    "src.coordinates.data[:] = [75., 75.] \n",
    "# 2 element array containing x and z positions of source\n",
    "# Position is defined in meters, rather than grid points\n",
    "src.show() # Show the source function"
   ]
  },
  {
   "cell_type": "code",
   "execution_count": 215,
   "metadata": {},
   "outputs": [],
   "source": [
    "so = 8 # Spatial derivatives are eighth order accurate\n",
    "# Grids are staggered to prevent pressure decoupling. Note that staggering is done in corresponding directions\n",
    "vx = TimeFunction(name='vx', grid=grid, staggered=x, space_order=so) # Velocity field x\n",
    "vz = TimeFunction(name='vz', grid=grid, staggered=z, space_order=so) # Velocity field z\n",
    "# staggered=x entails discretization on x edges\n",
    "txx = TimeFunction(name='txx', grid=grid, staggered=NODE, space_order=so)\n",
    "tzz = TimeFunction(name='tzz', grid=grid, staggered=NODE, space_order=so)\n",
    "txz = TimeFunction(name='txz', grid=grid, staggered=(x, z), space_order=so)\n",
    "# Stress axis for normal and shear stresses"
   ]
  },
  {
   "cell_type": "code",
   "execution_count": 216,
   "metadata": {},
   "outputs": [],
   "source": [
    "# The source injection term\n",
    "src_xx = src.inject(field=txx.forward, expr=src) \n",
    "src_zz = src.inject(field=tzz.forward, expr=src)"
   ]
  },
  {
   "cell_type": "code",
   "execution_count": 217,
   "metadata": {},
   "outputs": [],
   "source": [
    "rho = Function(name=\"rho\", grid=grid, space_order=2) #Bouyancy\n",
    "rho.data[:] = 1/1900.\n",
    "\n",
    "# k_1,2,3,4 refer to components in the stress tensor as follows:\n",
    "#\n",
    "# | k_1 k_2  0  |\n",
    "# |             |\n",
    "# | k_2 k_3  0  |\n",
    "# |             |\n",
    "# |  0   0  k_4 |\n",
    "\n",
    "# Adapted from Juhlin 1995 and Okaya and McEvilly 2003\n",
    "\n",
    "# Tensor components can be spatially variant\n",
    "k_1= Function(name=\"k1\", grid=grid, space_order=2)\n",
    "k_1.data[:] = 2700.*1.1 # Parameters scaled relative to values for isotropic case (lambda = 1300, mu = 700)\n",
    "k_2= Function(name=\"k2\", grid=grid, space_order=2)\n",
    "k_2.data[:] = 1300.*1.\n",
    "k_3= Function(name=\"k3\", grid=grid, space_order=2)\n",
    "k_3.data[:] = 2700.*1.\n",
    "k_4= Function(name=\"k4\", grid=grid, space_order=2)\n",
    "k_4.data[:] = 700.*1.\n",
    "\n",
    "u_vx = Eq(vx.forward, vx + dt*rho*(txx.dx + txz.dz)) #PDEs for updating all fields\n",
    "\n",
    "u_vz = Eq(vz.forward, vz + dt*rho*(txz.dx + tzz.dz))\n",
    "\n",
    "u_txx = Eq(txx.forward,\n",
    "           txx + dt*k_1*vx.forward.dx \n",
    "           + dt*k_2*vz.forward.dz)\n",
    "\n",
    "u_tzz = Eq(tzz.forward,\n",
    "           tzz + dt*k_2*vx.forward.dx \n",
    "           + dt*k_3*vz.forward.dz)\n",
    "\n",
    "u_txz = Eq(txz.forward,\n",
    "          txz + dt*k_4*(vx.forward.dz + vz.forward.dx))"
   ]
  },
  {
   "cell_type": "code",
   "execution_count": 218,
   "metadata": {},
   "outputs": [],
   "source": [
    "op = Operator([u_vx, u_vz, u_txx, u_tzz, u_txz] + src_xx + src_zz) #Operator can iterate multiple PDEs at once\n",
    "#Source is injected in xx and zz directions"
   ]
  },
  {
   "cell_type": "code",
   "execution_count": 219,
   "metadata": {},
   "outputs": [
    {
     "name": "stderr",
     "output_type": "stream",
     "text": [
      "Operator `Kernel` run in 277.59 s\n"
     ]
    }
   ],
   "source": [
    "# Reset the fields\n",
    "vx.data[:] = 0. #Velocity components\n",
    "vz.data[:] = 0.\n",
    "txx.data[:] = 0. #Symmetric stress tensors\n",
    "tzz.data[:] = 0.\n",
    "txz.data[:] = 0.\n",
    "\n",
    "op()"
   ]
  },
  {
   "cell_type": "code",
   "execution_count": 220,
   "metadata": {},
   "outputs": [],
   "source": [
    "plot_image(vx.data[0])\n"
   ]
  },
  {
   "cell_type": "code",
   "execution_count": 221,
   "metadata": {},
   "outputs": [],
   "source": [
    "plot_image(vz.data[0])"
   ]
  },
  {
   "cell_type": "code",
   "execution_count": 222,
   "metadata": {},
   "outputs": [],
   "source": [
    "plot_image(txx.data[0])"
   ]
  },
  {
   "cell_type": "code",
   "execution_count": 223,
   "metadata": {},
   "outputs": [],
   "source": [
    "plot_image(tzz.data[0])"
   ]
  },
  {
   "cell_type": "code",
   "execution_count": 224,
   "metadata": {},
   "outputs": [],
   "source": [
    "plot_image(txz.data[0])"
   ]
  },
  {
   "cell_type": "code",
   "execution_count": null,
   "metadata": {},
   "outputs": [],
   "source": []
  }
 ],
 "metadata": {
  "kernelspec": {
   "display_name": "Python [conda env:devito]",
   "language": "python",
   "name": "conda-env-devito-py"
  },
  "language_info": {
   "codemirror_mode": {
    "name": "ipython",
    "version": 3
   },
   "file_extension": ".py",
   "mimetype": "text/x-python",
   "name": "python",
   "nbconvert_exporter": "python",
   "pygments_lexer": "ipython3",
   "version": "3.6.6"
  }
 },
 "nbformat": 4,
 "nbformat_minor": 2
}
