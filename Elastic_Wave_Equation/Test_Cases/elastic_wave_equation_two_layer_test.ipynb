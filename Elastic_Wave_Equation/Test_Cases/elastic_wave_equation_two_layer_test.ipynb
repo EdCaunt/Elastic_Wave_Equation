{
 "cells": [
  {
   "cell_type": "code",
   "execution_count": 1,
   "metadata": {},
   "outputs": [],
   "source": [
    "# A Devito script aiming to replicate Fig 6 in Katou et al 2009"
   ]
  },
  {
   "cell_type": "code",
   "execution_count": 4,
   "metadata": {},
   "outputs": [],
   "source": [
    "from devito import *\n",
    "from examples.seismic.source import RickerSource, TimeAxis\n",
    "from examples.seismic import plot_image, Model\n",
    "import numpy as np\n",
    "\n",
    "from sympy import init_printing, latex\n",
    "init_printing(use_latex=True)\n",
    "\n",
    "%matplotlib qt"
   ]
  },
  {
   "cell_type": "code",
   "execution_count": 5,
   "metadata": {},
   "outputs": [],
   "source": [
    "extent = (400., 400.)\n",
    "# Grid is 2km x 2km with spacing 10m\n",
    "shape = (401, 401)\n",
    "# Define x and z as spatial dimentions for Sympy\n",
    "x = SpaceDimension(name='x', spacing=Constant(name='h_x', value=extent[0]/(shape[0]-1)))\n",
    "# Dimension called x, with constant spacing of 10 (called h_x) \n",
    "z = SpaceDimension(name='z', spacing=Constant(name='h_z', value=extent[1]/(shape[1]-1)))\n",
    "grid = Grid(extent=extent, shape=shape, dimensions=(x, z))\n",
    "# Cartesian grid with dimensions of x and z. 201 x 201 gridpoints and measuring 2km x 2km"
   ]
  },
  {
   "cell_type": "code",
   "execution_count": 6,
   "metadata": {},
   "outputs": [],
   "source": [
    "# Timestep size from Eq. 7 (Virieux 1986) with V_p=3500. and dx=5\n",
    "t0, tn = 0., 220.\n",
    "dt = (1. / np.sqrt(2.)) / 2500.\n",
    "time_range = TimeAxis(start=t0, stop=tn, step=dt) #Set up time axis object for ricker source\n",
    "\n",
    "src = RickerSource(name='src', grid=grid, f0=0.050, time_range=time_range) # Ricker wavelet source\n",
    "src.coordinates.data[:] = [100., 100.] \n",
    "# 2 element array containing x and z positions of source\n",
    "# Position is defined in meters, rather than grid points\n",
    "src.show() # Show the source function"
   ]
  },
  {
   "cell_type": "code",
   "execution_count": 7,
   "metadata": {},
   "outputs": [],
   "source": [
    "# Now we create the velocity and pressure fields\n",
    "so = 2 # Spatial derivatives are second order accurate\n",
    "# Grids are staggered to prevent pressure decoupling. Note that staggering is done in corresponding directions\n",
    "vx= TimeFunction(name='vx', grid=grid, staggered=x, space_order=so) # Velocity field x\n",
    "vz = TimeFunction(name='vz', grid=grid, staggered=z, space_order=so) # Velocity field z\n",
    "# staggered=x entails discretization on x edges\n",
    "txx = TimeFunction(name='txx', grid=grid, staggered=NODE, space_order=so)\n",
    "tzz = TimeFunction(name='tzz', grid=grid, staggered=NODE, space_order=so)\n",
    "txz = TimeFunction(name='txz', grid=grid, staggered=(x, z), space_order=so)\n",
    "# Stress axis"
   ]
  },
  {
   "cell_type": "code",
   "execution_count": 8,
   "metadata": {},
   "outputs": [],
   "source": [
    "# Now let's try and create the staggered updates\n",
    "t = grid.stepping_dim\n",
    "time = grid.time_dim\n",
    "\n",
    "# We need some initial conditions\n",
    "# Replace these with functions\n",
    "V_p = Function(name=\"V_p\", grid=grid, space_order=2)\n",
    "V_p.data[:, 301:] = 2500. # Lower\n",
    "V_p.data[:, :301] = 2000. # Upper\n",
    "V_s = Function(name=\"V_s\", grid=grid, space_order=2)\n",
    "V_s.data[:, 301:] = 1500.\n",
    "V_s.data[:, :301] = 1000.\n",
    "rho = Function(name=\"rho\", grid=grid, space_order=2)\n",
    "rho.data[:, 301:] = 1/1900.\n",
    "rho.data[:, :301] = 1/1500.\n",
    "\n",
    "plot_image(V_p.data)\n",
    "\n",
    "# Need a Model object to obtain damping terms\n",
    "model = Model(vp=V_p, origin=(0., 0.), shape=shape, spacing=(1., 1.), space_order=2, nbpml=20)\n",
    "\n",
    "# The source injection term\n",
    "src_xx = src.inject(field=txx.forward, expr=src) \n",
    "src_zz = src.inject(field=tzz.forward, expr=src)\n",
    "\n",
    "\n",
    "# fdelmodc reference implementation\n",
    "u_vx = Eq(vx.forward, vx - dt*rho*(txx.dx + txz.dz)) #PDEs for updating all fields\n",
    "\n",
    "u_vz = Eq(vz.forward, vz - dt*rho*(txz.dx + tzz.dz))\n",
    "\n",
    "u_txx = Eq(txx.forward, txx - (rho*V_p**2)*dt * vx.forward.dx - (rho*V_p**2-2*rho*V_s**2)*dt * vz.forward.dz)\n",
    "u_tzz = Eq(tzz.forward, tzz - (rho*V_p**2)*dt * vz.forward.dz - (rho*V_p**2-2*rho*V_s**2)*dt * vx.forward.dx)\n",
    "\n",
    "u_txz = Eq(txz.forward, txz - (rho*V_s**2)*dt * (vx.forward.dz + vz.forward.dx))"
   ]
  },
  {
   "cell_type": "code",
   "execution_count": 9,
   "metadata": {},
   "outputs": [],
   "source": [
    "op = Operator([u_vx, u_vz, u_txx, u_tzz, u_txz] + src_xx + src_zz) #Operator can iterate multiple PDEs at once\n",
    "#Source is injected in xx and zz directions\n",
    "#?op"
   ]
  },
  {
   "cell_type": "code",
   "execution_count": 10,
   "metadata": {},
   "outputs": [
    {
     "name": "stderr",
     "output_type": "stream",
     "text": [
      "Operator `Kernel` run in 1350.65 s\n"
     ]
    }
   ],
   "source": [
    "# Reset the fields\n",
    "vx.data[:] = 0. #Velocity components\n",
    "vz.data[:] = 0.\n",
    "txx.data[:] = 0. #Symmetric stress tensors\n",
    "tzz.data[:] = 0.\n",
    "txz.data[:] = 0.\n",
    "\n",
    "op()"
   ]
  },
  {
   "cell_type": "code",
   "execution_count": 11,
   "metadata": {},
   "outputs": [],
   "source": [
    "# Let's see what we got....\n",
    "#plot_image(vx.data[0], vmin=-.5*1e-2, vmax=.5*1e-2, cmap=\"seismic\")\n",
    "plot_image(vx.data[0], vmin=-.5*1e-2, vmax=.5*1e-2)\n"
   ]
  },
  {
   "cell_type": "code",
   "execution_count": 11,
   "metadata": {},
   "outputs": [],
   "source": [
    "#plot_image(vz.data[0], vmin=-.5*1e-2, vmax=.5*1e-2, cmap=\"seismic\")\n",
    "plot_image(vz.data[0], vmin=-.5*1e-2, vmax=.5*1e-2)"
   ]
  },
  {
   "cell_type": "code",
   "execution_count": 74,
   "metadata": {},
   "outputs": [],
   "source": [
    "#plot_image(txx.data[0], vmin=-.5*1e-2, vmax=.5*1e-2, cmap=\"seismic\")\n",
    "plot_image(txx.data[0], vmin=-.5*1e-2, vmax=.5*1e-2)"
   ]
  },
  {
   "cell_type": "code",
   "execution_count": 45,
   "metadata": {},
   "outputs": [],
   "source": [
    "#plot_image(tzz.data[0], vmin=-.5*1e-2, vmax=.5*1e-2, cmap=\"seismic\")\n",
    "plot_image(tzz.data[0], vmin=-.5*1e-2, vmax=.5*1e-2)"
   ]
  },
  {
   "cell_type": "code",
   "execution_count": 24,
   "metadata": {},
   "outputs": [],
   "source": [
    "#plot_image(txz.data[0], vmin=-.5*1e-2, vmax=.5*1e-2, cmap=\"seismic\")\n",
    "plot_image(txz.data[0], vmin=-.5*1e-2, vmax=.5*1e-2)"
   ]
  },
  {
   "cell_type": "code",
   "execution_count": null,
   "metadata": {},
   "outputs": [],
   "source": []
  }
 ],
 "metadata": {
  "kernelspec": {
   "display_name": "Python [conda env:devito]",
   "language": "python",
   "name": "conda-env-devito-py"
  },
  "language_info": {
   "codemirror_mode": {
    "name": "ipython",
    "version": 3
   },
   "file_extension": ".py",
   "mimetype": "text/x-python",
   "name": "python",
   "nbconvert_exporter": "python",
   "pygments_lexer": "ipython3",
   "version": "3.6.6"
  }
 },
 "nbformat": 4,
 "nbformat_minor": 2
}
