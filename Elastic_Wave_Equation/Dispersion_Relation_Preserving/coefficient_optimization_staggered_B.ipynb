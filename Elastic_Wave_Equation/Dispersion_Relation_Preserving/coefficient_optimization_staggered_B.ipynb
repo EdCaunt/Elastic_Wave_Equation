{
 "cells": [
  {
   "cell_type": "code",
   "execution_count": 1,
   "metadata": {},
   "outputs": [],
   "source": [
    "# Script to optimise coefficients of finite difference stencil for minimum frequency-wavenumber error\n",
    "# Stencil will contain 7 grid points, and the initial stencil is fourth order accurate in space"
   ]
  },
  {
   "cell_type": "code",
   "execution_count": 2,
   "metadata": {},
   "outputs": [],
   "source": [
    "# Define function to evaluate innermost part of error function (un-integrated)\n",
    "from numpy import array, zeros, sum, exp, pi\n",
    "from scipy.integrate import quad\n",
    "from scipy.optimize import fsolve\n",
    "\n",
    "def err_unint(k, a): # k is kappa, and a is the array of values of a_j = [a_-3, ..., a_3]    \n",
    "    # Might want to figure out how to not have range(-3, 4) hardcoded\n",
    "    return abs(1j*k - sum([a[i]*exp((float(i-3)+0.5)*1j*k) for i in range(7)]))**2\n",
    "\n",
    "def err_int(coeffs): # Integrate from -pi/2 to pi/2\n",
    "    return quad(err_unint, -pi/2., pi/2, args=(coeffs))[0]"
   ]
  },
  {
   "cell_type": "code",
   "execution_count": 3,
   "metadata": {},
   "outputs": [
    {
     "name": "stdout",
     "output_type": "stream",
     "text": [
      "[-0.00640097  0.07367152 -1.1890097   1.1890097  -0.07367152  0.00640097\n",
      "  0.        ]\n"
     ]
    },
    {
     "name": "stderr",
     "output_type": "stream",
     "text": [
      "/home/ed/.local/lib/python3.6/site-packages/scipy/optimize/minpack.py:163: RuntimeWarning: The iteration is not making good progress, as measured by the \n",
      "  improvement from the last ten iterations.\n",
      "  warnings.warn(msg, RuntimeWarning)\n"
     ]
    }
   ],
   "source": [
    "# take an array and insert a_i and a_-i, then return integrated error\n",
    "\n",
    "a = zeros(7)\n",
    "\n",
    "def test_err(a_0, coeffs):\n",
    "    coeffs[0] = (9./80.) - (a_0/10.) #-3\n",
    "    coeffs[1] = (a_0/2.) - (25./48.) #-2\n",
    "    coeffs[2] = -1.*a_0 #-1\n",
    "    coeffs[3] = a_0 #0\n",
    "    coeffs[4] = (25./48.) - (a_0/2.) #1\n",
    "    coeffs[5] = (a_0/10.) - (9./80.) #2\n",
    "    coeffs[6] = 0 #3\n",
    "    \n",
    "    return err_int(coeffs)\n",
    "\n",
    "a_0 = fsolve(test_err, 2, args=(a), xtol=1e-9)\n",
    "\n",
    "a[0] = (9./80.) - (a_0/10.) #-3\n",
    "a[1] = (a_0/2.) - (25./48.) #-2\n",
    "a[2] = -1.*a_0 #-1\n",
    "a[3] = a_0 #0\n",
    "a[4] = (25./48.) - (a_0/2.) #1\n",
    "a[5] = (a_0/10.) - (9./80.) #2\n",
    "a[6] = 0 #3\n",
    "\n",
    "print(a)"
   ]
  },
  {
   "cell_type": "code",
   "execution_count": null,
   "metadata": {},
   "outputs": [],
   "source": []
  }
 ],
 "metadata": {
  "kernelspec": {
   "display_name": "Python [conda env:devito]",
   "language": "python",
   "name": "conda-env-devito-py"
  },
  "language_info": {
   "codemirror_mode": {
    "name": "ipython",
    "version": 3
   },
   "file_extension": ".py",
   "mimetype": "text/x-python",
   "name": "python",
   "nbconvert_exporter": "python",
   "pygments_lexer": "ipython3",
   "version": "3.6.7"
  }
 },
 "nbformat": 4,
 "nbformat_minor": 2
}
