{
 "cells": [
  {
   "cell_type": "code",
   "execution_count": null,
   "metadata": {},
   "outputs": [],
   "source": [
    "# Modelling 2D VTI in Devito.\n",
    "# Defined by elastic tensor components\n",
    "# Centered source using Devito RickerSource object\n",
    "# Will use spatially optimized scheme to propogate wavefield"
   ]
  },
  {
   "cell_type": "code",
   "execution_count": null,
   "metadata": {},
   "outputs": [],
   "source": [
    "from examples.seismic.source import RickerSource, TimeAxis\n",
    "from devito import SpaceDimension, TimeDimension, Constant, Grid, TimeFunction, Function, NODE, Eq, Operator\n",
    "from numpy import array, sqrt, rot90\n",
    "\n",
    "extent = (150., 150.)\n",
    "# Grid is 2km x 2km with spacing 10m\n",
    "shape = (151, 151)\n",
    "\n",
    "dt = (1. / sqrt(2.)) / 2500. # Where did this come from again?\n",
    "# Define x and z as spatial dimentions for Sympy\n",
    "x = SpaceDimension(name='x', spacing=Constant(name='h_x', value=extent[0]/(shape[0]-1)))\n",
    "# Dimension called x, with constant spacing of 10 (called h_x) \n",
    "z = SpaceDimension(name='z', spacing=Constant(name='h_z', value=extent[1]/(shape[1]-1)))\n",
    "t = TimeDimension(name='t', spacing=Constant(name='dt', value=dt))\n",
    "grid = Grid(extent=extent, shape=shape, dimensions=(x, z), time_dimension=t)\n",
    "\n",
    "t0, tn = 0., 75. # Start and end times in ms\n",
    "ns = int(tn/dt)\n",
    "time_range = TimeAxis(start=t0, stop=tn, step=dt/2.) #Set up time axis object for ricker source\n",
    "\n",
    "src = RickerSource(name='src', grid=grid, f0=0.100, time_range=time_range) # Ricker wavelet source\n",
    "src.coordinates.data[:] = array([75., 75.])\n",
    "\n",
    "src.show() "
   ]
  },
  {
   "cell_type": "code",
   "execution_count": null,
   "metadata": {},
   "outputs": [],
   "source": [
    "so = 6 # Spatial derivatives are eighth order accurate\n",
    "# Grids are staggered to prevent pressure decoupling. Note that staggering is done in corresponding directions\n",
    "vx = TimeFunction(name='vx', grid=grid, staggered=x, space_order=so) # Velocity field x\n",
    "vz = TimeFunction(name='vz', grid=grid, staggered=z, space_order=so) # Velocity field z\n",
    "# staggered=x entails discretization on x edges\n",
    "txx = TimeFunction(name='txx', grid=grid, staggered=NODE, space_order=so)\n",
    "tzz = TimeFunction(name='tzz', grid=grid, staggered=NODE, space_order=so)\n",
    "txz = TimeFunction(name='txz', grid=grid, staggered=(x, z), space_order=so)\n",
    "# Stress axis for normal and shear stresses"
   ]
  },
  {
   "cell_type": "code",
   "execution_count": null,
   "metadata": {},
   "outputs": [],
   "source": [
    "# The source injection term\n",
    "src_xx = src.inject(field=txx.forward, expr=src) \n",
    "src_zz = src.inject(field=tzz.forward, expr=src)"
   ]
  },
  {
   "cell_type": "code",
   "execution_count": null,
   "metadata": {},
   "outputs": [],
   "source": [
    "rho = Function(name=\"rho\", grid=grid, space_order=2) #Bouyancy\n",
    "rho.data[:] = 1/1900.\n",
    "\n",
    "# k_1,2,3,4 refer to components in the stress tensor as follows:\n",
    "#\n",
    "# | k_1 k_2  0  |\n",
    "# |             |\n",
    "# | k_2 k_3  0  |\n",
    "# |             |\n",
    "# |  0   0  k_4 |\n",
    "\n",
    "# Adapted from Juhlin 1995 and Okaya and McEvilly 2003\n",
    "\n",
    "# Tensor components can be spatially variant\n",
    "k_1= Function(name=\"k1\", grid=grid, space_order=2)\n",
    "k_1.data[:] = 2700.*1.1 # Parameters scaled relative to values for isotropic case (lambda = 1300, mu = 700)\n",
    "k_2= Function(name=\"k2\", grid=grid, space_order=2)\n",
    "k_2.data[:] = 1300.*1.\n",
    "k_3= Function(name=\"k3\", grid=grid, space_order=2)\n",
    "k_3.data[:] = 2700.*1.\n",
    "k_4= Function(name=\"k4\", grid=grid, space_order=2)\n",
    "k_4.data[:] = 700.*1.\n",
    "\n",
    "u_vx = Eq(vx.forward, vx + dt*rho*(txx.dx + txz.dz)) #PDEs for updating all fields of conventional equation\n",
    "u_vz = Eq(vz.forward, vz + dt*rho*(txz.dx + tzz.dz))\n",
    "u_txx = Eq(txx.forward,\n",
    "           txx + dt*k_1*vx.forward.dx \n",
    "           + dt*k_2*vz.forward.dz)\n",
    "u_tzz = Eq(tzz.forward,\n",
    "           tzz + dt*k_2*vx.forward.dx \n",
    "           + dt*k_3*vz.forward.dz)\n",
    "u_txz = Eq(txz.forward,\n",
    "          txz + dt*k_4*(vx.forward.dz + vz.forward.dx))"
   ]
  },
  {
   "cell_type": "code",
   "execution_count": null,
   "metadata": {},
   "outputs": [],
   "source": [
    "op = Operator([u_vx, u_vz, u_txx, u_tzz, u_txz] + src_xx + src_zz) #Operator can iterate multiple PDEs at once\n",
    "#Source is injected in xx and zz directions"
   ]
  },
  {
   "cell_type": "code",
   "execution_count": null,
   "metadata": {},
   "outputs": [],
   "source": [
    "# Reset the fields\n",
    "vx.data[:] = 0. #Velocity components\n",
    "vz.data[:] = 0.\n",
    "txx.data[:] = 0. #Symmetric stress tensors\n",
    "tzz.data[:] = 0.\n",
    "txz.data[:] = 0.\n",
    "\n",
    "op.apply(t_M=ns)"
   ]
  },
  {
   "cell_type": "code",
   "execution_count": null,
   "metadata": {},
   "outputs": [],
   "source": [
    "import matplotlib.pyplot as plt\n",
    "plt.imshow(vx.data[0])\n",
    "plt.show()"
   ]
  },
  {
   "cell_type": "code",
   "execution_count": null,
   "metadata": {},
   "outputs": [],
   "source": [
    "# Now for the optimized scheme\n",
    "\n",
    "# Grids are staggered to prevent pressure decoupling. Note that staggering is done in corresponding directions\n",
    "vx_opt = TimeFunction(name='vx_opt', grid=grid, staggered=x, space_order=so) # Velocity field x\n",
    "vz_opt = TimeFunction(name='vz_opt', grid=grid, staggered=z, space_order=so) # Velocity field z\n",
    "# staggered=x entails discretization on x edges\n",
    "txx_opt = TimeFunction(name='txx_opt', grid=grid, staggered=NODE, space_order=so)\n",
    "tzz_opt = TimeFunction(name='tzz_opt', grid=grid, staggered=NODE, space_order=so)\n",
    "txz_opt = TimeFunction(name='txz_opt', grid=grid, staggered=(x, z), space_order=so)\n",
    "# Stress axis for normal and shear stresses\n",
    "\n",
    "# The source injection term\n",
    "src_xx_opt = src.inject(field=txx_opt.forward, expr=src) \n",
    "src_zz_opt = src.inject(field=tzz_opt.forward, expr=src)"
   ]
  },
  {
   "cell_type": "code",
   "execution_count": null,
   "metadata": {},
   "outputs": [],
   "source": [
    "# Optimized stencil coefficients\n",
    "a_m3 = -0.02651995\n",
    "a_m2 = 0.18941314\n",
    "a_m1 = -0.79926643\n",
    "a_1 = 0.79926643\n",
    "a_2 = -0.18941314\n",
    "a_3 = 0.02651995\n",
    "\n",
    "h_x = grid.spacing[0]\n",
    "h_z = grid.spacing[1]\n",
    "time = grid.time_dim\n",
    "x = grid.dimensions[0]\n",
    "z = grid.dimensions[1]\n",
    "print(x, z)\n",
    "\n",
    "\n",
    "# This doesn't work\n",
    "u_vx_opt = Eq(vx_opt.forward, vx_opt + dt*rho*((a_m3*txx_opt[time,x-3,z]\n",
    "                                                + a_m2*txx_opt[time,x-2,z]\n",
    "                                                + a_m1*txx_opt[time,x-1,z]\n",
    "                                                + a_1*txx_opt[time,x+1,z]\n",
    "                                                + a_2*txx_opt[time,x+2,z]\n",
    "                                                + a_3*txx_opt[time,x+3,z])/h_x**2 + txz_opt.dz))\n",
    "\n",
    "\n",
    "# Uncomment for working pde\n",
    "#u_vx_opt = Eq(vx_opt.forward, vx_opt + dt*rho*(txx_opt.dx + txz_opt.dz))\n",
    "u_vz_opt = Eq(vz_opt.forward, vz_opt + dt*rho*(txz_opt.dx + tzz_opt.dz))\n",
    "u_txx_opt = Eq(txx_opt.forward,\n",
    "           txx_opt + dt*k_1*vx_opt.forward.dx \n",
    "           + dt*k_2*vz_opt.forward.dz)\n",
    "u_tzz_opt = Eq(tzz_opt.forward,\n",
    "           tzz_opt + dt*k_2*vx_opt.forward.dx \n",
    "           + dt*k_3*vz_opt.forward.dz)\n",
    "u_txz_opt = Eq(txz_opt.forward,\n",
    "          txz_opt + dt*k_4*(vx_opt.forward.dz + vz_opt.forward.dx))"
   ]
  },
  {
   "cell_type": "code",
   "execution_count": null,
   "metadata": {},
   "outputs": [],
   "source": [
    "op_opt = Operator([u_vx_opt, u_vz_opt, u_txx_opt, u_tzz_opt, u_txz_opt] + src_xx_opt + src_zz_opt)\n",
    "#Source is injected in xx and zz directions"
   ]
  },
  {
   "cell_type": "code",
   "execution_count": null,
   "metadata": {},
   "outputs": [],
   "source": [
    "# Reset the fields\n",
    "vx_opt.data[:] = 0. #Velocity components\n",
    "vz_opt.data[:] = 0.\n",
    "txx_opt.data[:] = 0. #Symmetric stress tensors\n",
    "tzz_opt.data[:] = 0.\n",
    "txz_opt.data[:] = 0.\n",
    "\n",
    "op_opt.apply(t_M=ns)\n",
    "\n",
    "#Kills the kernel for some reason <- FIX"
   ]
  },
  {
   "cell_type": "code",
   "execution_count": null,
   "metadata": {},
   "outputs": [],
   "source": [
    "import matplotlib.pyplot as plt\n",
    "plt.imshow(vx.data[0])\n",
    "plt.show()"
   ]
  },
  {
   "cell_type": "code",
   "execution_count": null,
   "metadata": {},
   "outputs": [],
   "source": []
  }
 ],
 "metadata": {
  "kernelspec": {
   "display_name": "Python [conda env:devito]",
   "language": "python",
   "name": "conda-env-devito-py"
  },
  "language_info": {
   "codemirror_mode": {
    "name": "ipython",
    "version": 3
   },
   "file_extension": ".py",
   "mimetype": "text/x-python",
   "name": "python",
   "nbconvert_exporter": "python",
   "pygments_lexer": "ipython3",
   "version": "3.6.7"
  }
 },
 "nbformat": 4,
 "nbformat_minor": 2
}
