{
 "cells": [
  {
   "cell_type": "code",
   "execution_count": 1,
   "metadata": {},
   "outputs": [
    {
     "name": "stderr",
     "output_type": "stream",
     "text": [
      "usage: __main__.py [-h] [--2d] [-a] [-so SPACE_ORDER] [--nbpml NBPML]\n",
      "                   [-dse {noop,basic,advanced,speculative,aggressive}]\n",
      "                   [-dle {noop,advanced,speculative}] [--constant]\n",
      "__main__.py: error: unrecognized arguments: -f /run/user/1000/jupyter/kernel-67c8a759-01b6-4f3a-83ac-49d00b6736ac.json\n"
     ]
    },
    {
     "ename": "SystemExit",
     "evalue": "2",
     "output_type": "error",
     "traceback": [
      "An exception has occurred, use %tb to see the full traceback.\n",
      "\u001b[0;31mSystemExit\u001b[0m\u001b[0;31m:\u001b[0m 2\n"
     ]
    },
    {
     "name": "stderr",
     "output_type": "stream",
     "text": [
      "/home/ed/.local/lib/python3.6/site-packages/IPython/core/interactiveshell.py:3273: UserWarning: To exit: use 'exit', 'quit', or Ctrl-D.\n",
      "  warn(\"To exit: use 'exit', 'quit', or Ctrl-D.\", stacklevel=1)\n"
     ]
    }
   ],
   "source": [
    "import numpy as np\n",
    "from argparse import ArgumentParser\n",
    "\n",
    "from devito.logger import info\n",
    "from examples.seismic.elastic import ElasticWaveSolver\n",
    "from examples.seismic import RickerSource, Receiver, TimeAxis, demo_model\n",
    "\n",
    "\n",
    "def elastic_setup(shape=(50, 50), spacing=(15.0, 15.0), tn=500., space_order=4, nbpml=10,\n",
    "                  constant=False, **kwargs):\n",
    "\n",
    "    nrec = 2*shape[0]\n",
    "    preset = 'constant-elastic' if constant else 'layers-elastic'\n",
    "    model = demo_model(preset, space_order=space_order, shape=shape, nbpml=nbpml,\n",
    "                       dtype=kwargs.pop('dtype', np.float32), spacing=spacing)\n",
    "\n",
    "    # Derive timestepping from model spacing\n",
    "    dt = model.critical_dt\n",
    "    t0 = 0.0\n",
    "    time_range = TimeAxis(start=t0, stop=tn, step=dt)\n",
    "\n",
    "    # Define source geometry (center of domain, just below surface)\n",
    "    src = RickerSource(name='src', grid=model.grid, f0=0.01, time_range=time_range)\n",
    "    src.coordinates.data[0, :] = np.array(model.domain_size) * .5\n",
    "    if len(shape) > 1:\n",
    "        src.coordinates.data[0, -1] = model.origin[-1] + 2 * spacing[-1]\n",
    "    # Define receiver geometry (spread across x, just below surface)\n",
    "    rec = Receiver(name='rec', grid=model.grid, time_range=time_range, npoint=nrec)\n",
    "    rec.coordinates.data[:, 0] = np.linspace(0., model.domain_size[0], num=nrec)\n",
    "    if len(shape) > 1:\n",
    "        rec.coordinates.data[:, 1:] = src.coordinates.data[0, 1:]\n",
    "    # Create solver object to provide relevant operators\n",
    "    solver = ElasticWaveSolver(model, source=src, receiver=rec,\n",
    "                               space_order=space_order, **kwargs)\n",
    "    return solver\n",
    "\n",
    "\n",
    "def run(shape=(50, 50), spacing=(20.0, 20.0), tn=1000.0,\n",
    "        space_order=4, nbpml=40, autotune=False, constant=False, **kwargs):\n",
    "\n",
    "    solver = elastic_setup(shape=shape, spacing=spacing, nbpml=nbpml, tn=tn,\n",
    "                           space_order=space_order, constant=constant, **kwargs)\n",
    "    info(\"Applying Forward\")\n",
    "    # Define receiver geometry (spread across x, just below surface)\n",
    "    rec1, rec2, vx, vz, txx, tzz, txz, summary = solver.forward(autotune=autotune)\n",
    "\n",
    "    return rec1, rec2, vx, vz, txx, tzz, txz, summary\n",
    "\n",
    "\n",
    "if __name__ == \"__main__\":\n",
    "    description = (\"Example script for a set of elastic operators.\")\n",
    "    parser = ArgumentParser(description=description)\n",
    "    parser.add_argument('--2d', dest='dim2', default=False, action='store_true',\n",
    "                        help=\"Preset to determine the physical problem setup\")\n",
    "    parser.add_argument('-a', '--autotune', default=False, action='store_true',\n",
    "                        help=\"Enable autotuning for block sizes\")\n",
    "    parser.add_argument(\"-so\", \"--space_order\", default=4,\n",
    "                        type=int, help=\"Space order of the simulation\")\n",
    "    parser.add_argument(\"--nbpml\", default=40,\n",
    "                        type=int, help=\"Number of PML layers around the domain\")\n",
    "    parser.add_argument(\"-dse\", default=\"advanced\",\n",
    "                        choices=[\"noop\", \"basic\", \"advanced\",\n",
    "                                 \"speculative\", \"aggressive\"],\n",
    "                        help=\"Devito symbolic engine (DSE) mode\")\n",
    "    parser.add_argument(\"-dle\", default=\"advanced\",\n",
    "                        choices=[\"noop\", \"advanced\", \"speculative\"],\n",
    "                        help=\"Devito loop engine (DLEE) mode\")\n",
    "    parser.add_argument(\"--constant\", default=False, action='store_true',\n",
    "                        help=\"Constant velocity model, default is a two layer model\")\n",
    "    args = parser.parse_args()\n",
    "\n",
    "    # 2D preset parameters\n",
    "    if args.dim2:\n",
    "        shape = (150, 150)\n",
    "        spacing = (10.0, 10.0)\n",
    "        tn = 750.0\n",
    "    # 3D preset parameters\n",
    "    else:\n",
    "        shape = (150, 150, 150)\n",
    "        spacing = (10.0, 10.0, 10.0)\n",
    "        tn = 1250.0\n",
    "\n",
    "    run(shape=shape, spacing=spacing, nbpml=args.nbpml, tn=tn, dle=args.dle,\n",
    "        space_order=args.space_order, autotune=args.autotune, constant=args.constant,\n",
    "        dse=args.dse)\n"
   ]
  },
  {
   "cell_type": "code",
   "execution_count": null,
   "metadata": {},
   "outputs": [],
   "source": []
  }
 ],
 "metadata": {
  "kernelspec": {
   "display_name": "Python [conda env:devito]",
   "language": "python",
   "name": "conda-env-devito-py"
  },
  "language_info": {
   "codemirror_mode": {
    "name": "ipython",
    "version": 3
   },
   "file_extension": ".py",
   "mimetype": "text/x-python",
   "name": "python",
   "nbconvert_exporter": "python",
   "pygments_lexer": "ipython3",
   "version": "3.6.6"
  }
 },
 "nbformat": 4,
 "nbformat_minor": 2
}
