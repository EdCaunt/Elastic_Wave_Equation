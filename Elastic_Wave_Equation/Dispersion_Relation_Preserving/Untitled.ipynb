{
 "cells": [
  {
   "cell_type": "code",
   "execution_count": 1,
   "metadata": {},
   "outputs": [
    {
     "name": "stderr",
     "output_type": "stream",
     "text": [
      "Operator `Kernel` run in 0.00 s\n"
     ]
    },
    {
     "name": "stdout",
     "output_type": "stream",
     "text": [
      "2.7181435 2.718281828459045\n"
     ]
    }
   ],
   "source": [
    "import numpy as np\n",
    "from devito import Grid, Function, TimeFunction, Eq, Operator, solve\n",
    "from devito import ConditionalDimension\n",
    "\n",
    "from devito import Constant, first_derivative, second_derivative\n",
    "from devito import left, right\n",
    "from examples.cfd import plot_field\n",
    "import matplotlib.pyplot as plt\n",
    "from matplotlib import cm\n",
    "\n",
    "from numpy import exp\n",
    "\n",
    "# define spatial mesh\n",
    "# Size of rectangular domain\n",
    "Lx = 1.\n",
    "Ly = Lx\n",
    "\n",
    "# Number of grid points in each direction, including boundary nodes\n",
    "Nx = 11\n",
    "Ny = Nx\n",
    "\n",
    "# hence the mesh spacing\n",
    "dx = Lx/(Nx-1)\n",
    "dy = Ly/(Ny-1)\n",
    "\n",
    "grid = Grid(shape=(Nx, Ny), extent=(Lx, Ly))\n",
    "time = grid.time_dim\n",
    "t = grid.stepping_dim\n",
    "x, y = grid.dimensions\n",
    "\n",
    "dt = 1e-4\n",
    "t_end = 1.0\n",
    "ns = int(t_end/dt)\n",
    "\n",
    "# Set up three fields: They will all give the same solution but we will get there\n",
    "# using three 'different' methods\n",
    "u = TimeFunction(name='u', grid=grid)\n",
    "\n",
    "# Initialise\n",
    "u.data[:] = 0.\n",
    "\n",
    "# Initial conditions\n",
    "u.data[0,:,:] = 1.\n",
    "\n",
    "# Main equations\n",
    "eq = Eq(u.dt, u)\n",
    "stencil = solve(eq, u.forward)\n",
    "\n",
    "# Create the operators\n",
    "op = Operator(Eq(u.forward, stencil))\n",
    "\n",
    "# Method 1: function without 'save' specified\n",
    "op.apply(time_m=0, time_M=ns-1, dt=dt)\n",
    "\n",
    "\n",
    "# compare solutions at the end of the iteration\n",
    "print(u.data[0,0,0], exp(1.))\n",
    "\n",
    "# Note we can grab the value at any point in time from u1/u2 via:\n",
    "# u1[10,x,y] etc. - this won't work for u since we didn't specify 'save=some_number'\n"
   ]
  },
  {
   "cell_type": "code",
   "execution_count": null,
   "metadata": {},
   "outputs": [],
   "source": []
  }
 ],
 "metadata": {
  "kernelspec": {
   "display_name": "Python [conda env:devito]",
   "language": "python",
   "name": "conda-env-devito-py"
  },
  "language_info": {
   "codemirror_mode": {
    "name": "ipython",
    "version": 3
   },
   "file_extension": ".py",
   "mimetype": "text/x-python",
   "name": "python",
   "nbconvert_exporter": "python",
   "pygments_lexer": "ipython3",
   "version": "3.6.7"
  }
 },
 "nbformat": 4,
 "nbformat_minor": 2
}
