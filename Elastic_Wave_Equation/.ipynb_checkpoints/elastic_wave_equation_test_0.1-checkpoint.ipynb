{
 "cells": [
  {
   "cell_type": "code",
   "execution_count": 11,
   "metadata": {},
   "outputs": [],
   "source": [
    "import numpy as np\n",
    "from devito import TimeFunction, Function, Grid, Operator\n",
    "from examples.seismic import Model\n",
    "from sympy import init_printing, symbols, solve, Eq\n",
    "from examples.cfd import plot_field\n",
    "%matplotlib qt\n",
    "init_printing() #Uses prettiest printer available"
   ]
  },
  {
   "cell_type": "code",
   "execution_count": 12,
   "metadata": {},
   "outputs": [],
   "source": [
    "#Create a class to express the three dimensions of u\n",
    "class VectorTimeFunction:\n",
    "    \"\"\"Essentially three Devito TimeFunction objects duct taped together for convenience.\n",
    "    Used to express a vector function in 3D space.\n",
    "    \n",
    "    :param name: Prefix of the resulting :class:`sympy.Function` symbols\n",
    "    :param grid: :class:`Grid` object from which to infer the data shape\n",
    "             and :class:`Dimension` indices.\n",
    "    :param space_order: Discretisation order for space derivatives. By default,\n",
    "                    ``space_order`` points are available on both sides of\n",
    "                    a generic point of interest, including those on the grid\n",
    "                    border. Sometimes, fewer points may be necessary; in\n",
    "                    other cases, depending on the PDE being approximated,\n",
    "                    more points may be necessary. In such cases, one\n",
    "                    can pass a 3-tuple ``(o, lp, rp)`` instead of a single\n",
    "                    integer representing the discretization order. Here,\n",
    "                    ``o`` is the discretization order, while ``lp`` and ``rp``\n",
    "                    indicate how many points are expected on left (``lp``)\n",
    "                    and right (``rp``) of a point of interest.\n",
    "    :param time_order: Discretization order for time derivatives. \"\"\"\n",
    "    def __init__(self, name, grid, time_order=2, space_order=2):\n",
    "        self.x = TimeFunction(name=name+'_x', grid=grid, \n",
    "                                       time_order=time_order, \n",
    "                                       space_order=space_order)\n",
    "        self.y = TimeFunction(name=name+'_y', grid=grid, \n",
    "                                       time_order=time_order, \n",
    "                                       space_order=space_order)\n",
    "        self.z = TimeFunction(name=name+'_z', grid=grid, \n",
    "                                       time_order=time_order, \n",
    "                                       space_order=space_order)"
   ]
  },
  {
   "cell_type": "code",
   "execution_count": 13,
   "metadata": {},
   "outputs": [],
   "source": [
    "#Set up grid and functions to express lambda, mu, and rho\n",
    "shape = (51, 51, 51)  # Number of grid point (nx, nz)\n",
    "spacing = (20., 20., 20.)  # Grid spacing in m. The domain size is now 1km by 1km by 1km\n",
    "origin = (0., 0., 0.)  # Location of the top left corner.\n",
    "grid = Grid(shape=shape, extent = (2., 2., 2.))\n",
    "lame_1 = Function(name='lame_1', grid=grid) #Lambda (first Lame parameter)\n",
    "lame_2 = Function(name='lame_2', grid=grid) #Mu (second Lame parameter)\n",
    "density = Function(name='density', grid=grid) #Rho\n",
    "\n",
    "#Populate lambda, mu, and rho\n",
    "lame_1.data[:] = 35e9\n",
    "lame_2.data[:] = 30e9\n",
    "density.data[:] = 3000.\n",
    "\n",
    "#Seismic wave speed model for critical dt etc\n",
    "model = Model(vp=np.sqrt((lame_1.data+2*lame_2.data)/density.data), origin=origin,\n",
    "              shape=shape, spacing=spacing,\n",
    "              space_order=2, nbpml=10)"
   ]
  },
  {
   "cell_type": "code",
   "execution_count": null,
   "metadata": {},
   "outputs": [],
   "source": [
    "from examples.seismic import TimeAxis, RickerSource\n",
    "\n",
    "t0 = 0.  #Simulation starts a t=0\n",
    "tn = 1000.  #Simulation last 1 second (1000 ms)\n",
    "dt = model.critical_dt  # Time step from model grid spacing\n",
    "\n",
    "time_range = TimeAxis(start=t0, stop=tn, step=dt)\n",
    "\n",
    "f0 = 0.010  #Source peak frequency is 10Hz (0.010 kHz)\n",
    "src = RickerSource(name='src', grid=model.grid, f0=f0,\n",
    "                   npoint=1, time_range=time_range)\n",
    "\n",
    "#First, position source centrally in all dimensions, then set depth\n",
    "src.coordinates.data[0, :] = np.array(model.domain_size) * .5\n",
    "src.coordinates.data[0, -1] = 20.  #Depth is 20m\n",
    "\n",
    "#We can plot the time signature to see the wavelet\n",
    "src.show()"
   ]
  },
  {
   "cell_type": "code",
   "execution_count": 16,
   "metadata": {},
   "outputs": [
    {
     "ename": "SympifyError",
     "evalue": "SympifyError: [0.25*(4.0*dt**2*h_x**2*h_y**2*(-2.0*u_x(t, x, y, z) + u_x(t, x, y, z - h_z) + u_x(t, x, y, z + h_z))*lame_2(x, y, z) + 4.0*dt**2*h_x**2*h_z**2*(-2.0*u_x(t, x, y, z) + u_x(t, x, y - h_y, z) + u_x(t, x, y + h_y, z))*lame_2(x, y, z) + dt**2*h_x*h_y**2*h_z*(lame_1(x, y, z)*u_z(t, x - h_x, y, z - h_z) - lame_1(x, y, z)*u_z(t, x - h_x, y, z + h_z) - lame_1(x, y, z)*u_z(t, x + h_x, y, z - h_z) + lame_1(x, y, z)*u_z(t, x + h_x, y, z + h_z) + lame_2(x, y, z)*u_z(t, x - h_x, y, z - h_z) - lame_2(x, y, z)*u_z(t, x - h_x, y, z + h_z) - lame_2(x, y, z)*u_z(t, x + h_x, y, z - h_z) + lame_2(x, y, z)*u_z(t, x + h_x, y, z + h_z)) + dt**2*h_x*h_y*h_z**2*(lame_1(x, y, z)*u_y(t, x - h_x, y - h_y, z) - lame_1(x, y, z)*u_y(t, x - h_x, y + h_y, z) - lame_1(x, y, z)*u_y(t, x + h_x, y - h_y, z) + lame_1(x, y, z)*u_y(t, x + h_x, y + h_y, z) + lame_2(x, y, z)*u_y(t, x - h_x, y - h_y, z) - lame_2(x, y, z)*u_y(t, x - h_x, y + h_y, z) - lame_2(x, y, z)*u_y(t, x + h_x, y - h_y, z) + lame_2(x, y, z)*u_y(t, x + h_x, y + h_y, z)) + 4.0*dt**2*h_y**2*h_z**2*(-2.0*lame_1(x, y, z)*u_x(t, x, y, z) + lame_1(x, y, z)*u_x(t, x - h_x, y, z) + lame_1(x, y, z)*u_x(t, x + h_x, y, z) - 4.0*lame_2(x, y, z)*u_x(t, x, y, z) + 2.0*lame_2(x, y, z)*u_x(t, x - h_x, y, z) + 2.0*lame_2(x, y, z)*u_x(t, x + h_x, y, z)) + 4.0*h_x**2*h_y**2*h_z**2*(2.0*u_x(t, x, y, z) - u_x(t - dt, x, y, z))*density(x, y, z))/(h_x**2*h_y**2*h_z**2*density(x, y, z))]",
     "output_type": "error",
     "traceback": [
      "\u001b[0;31m---------------------------------------------------------------------------\u001b[0m",
      "\u001b[0;31mSympifyError\u001b[0m                              Traceback (most recent call last)",
      "\u001b[0;32m<ipython-input-16-3f8b5756eb11>\u001b[0m in \u001b[0;36m<module>\u001b[0;34m\u001b[0m\n\u001b[1;32m     11\u001b[0m \u001b[0;34m\u001b[0m\u001b[0m\n\u001b[1;32m     12\u001b[0m \u001b[0;34m\u001b[0m\u001b[0m\n\u001b[0;32m---> 13\u001b[0;31m \u001b[0mstencil_x\u001b[0m \u001b[0;34m=\u001b[0m \u001b[0mEq\u001b[0m\u001b[0;34m(\u001b[0m\u001b[0mu\u001b[0m\u001b[0;34m.\u001b[0m\u001b[0mx\u001b[0m\u001b[0;34m.\u001b[0m\u001b[0mforward\u001b[0m\u001b[0;34m,\u001b[0m \u001b[0msolve\u001b[0m\u001b[0;34m(\u001b[0m\u001b[0mpde_x\u001b[0m\u001b[0;34m,\u001b[0m \u001b[0mu\u001b[0m\u001b[0;34m.\u001b[0m\u001b[0mx\u001b[0m\u001b[0;34m.\u001b[0m\u001b[0mforward\u001b[0m\u001b[0;34m)\u001b[0m\u001b[0;34m)\u001b[0m\u001b[0;34m\u001b[0m\u001b[0m\n\u001b[0m\u001b[1;32m     14\u001b[0m \u001b[0mstencil_y\u001b[0m \u001b[0;34m=\u001b[0m \u001b[0mEq\u001b[0m\u001b[0;34m(\u001b[0m\u001b[0mu\u001b[0m\u001b[0;34m.\u001b[0m\u001b[0my\u001b[0m\u001b[0;34m.\u001b[0m\u001b[0mforward\u001b[0m\u001b[0;34m,\u001b[0m \u001b[0msolve\u001b[0m\u001b[0;34m(\u001b[0m\u001b[0mpde_y\u001b[0m\u001b[0;34m,\u001b[0m \u001b[0mu\u001b[0m\u001b[0;34m.\u001b[0m\u001b[0my\u001b[0m\u001b[0;34m.\u001b[0m\u001b[0mforward\u001b[0m\u001b[0;34m)\u001b[0m\u001b[0;34m)\u001b[0m\u001b[0;34m\u001b[0m\u001b[0m\n\u001b[1;32m     15\u001b[0m \u001b[0mstencil_x\u001b[0m \u001b[0;34m=\u001b[0m \u001b[0mEq\u001b[0m\u001b[0;34m(\u001b[0m\u001b[0mu\u001b[0m\u001b[0;34m.\u001b[0m\u001b[0mz\u001b[0m\u001b[0;34m.\u001b[0m\u001b[0mforward\u001b[0m\u001b[0;34m,\u001b[0m \u001b[0msolve\u001b[0m\u001b[0;34m(\u001b[0m\u001b[0mpde_z\u001b[0m\u001b[0;34m,\u001b[0m \u001b[0mu\u001b[0m\u001b[0;34m.\u001b[0m\u001b[0mz\u001b[0m\u001b[0;34m.\u001b[0m\u001b[0mforward\u001b[0m\u001b[0;34m)\u001b[0m\u001b[0;34m)\u001b[0m\u001b[0;34m\u001b[0m\u001b[0m\n",
      "\u001b[0;32m~/.local/lib/python3.6/site-packages/sympy/core/relational.py\u001b[0m in \u001b[0;36m__new__\u001b[0;34m(cls, lhs, rhs, **options)\u001b[0m\n\u001b[1;32m    310\u001b[0m \u001b[0;34m\u001b[0m\u001b[0m\n\u001b[1;32m    311\u001b[0m         \u001b[0mlhs\u001b[0m \u001b[0;34m=\u001b[0m \u001b[0m_sympify\u001b[0m\u001b[0;34m(\u001b[0m\u001b[0mlhs\u001b[0m\u001b[0;34m)\u001b[0m\u001b[0;34m\u001b[0m\u001b[0m\n\u001b[0;32m--> 312\u001b[0;31m         \u001b[0mrhs\u001b[0m \u001b[0;34m=\u001b[0m \u001b[0m_sympify\u001b[0m\u001b[0;34m(\u001b[0m\u001b[0mrhs\u001b[0m\u001b[0;34m)\u001b[0m\u001b[0;34m\u001b[0m\u001b[0m\n\u001b[0m\u001b[1;32m    313\u001b[0m \u001b[0;34m\u001b[0m\u001b[0m\n\u001b[1;32m    314\u001b[0m         \u001b[0mevaluate\u001b[0m \u001b[0;34m=\u001b[0m \u001b[0moptions\u001b[0m\u001b[0;34m.\u001b[0m\u001b[0mpop\u001b[0m\u001b[0;34m(\u001b[0m\u001b[0;34m'evaluate'\u001b[0m\u001b[0;34m,\u001b[0m \u001b[0mglobal_evaluate\u001b[0m\u001b[0;34m[\u001b[0m\u001b[0;36m0\u001b[0m\u001b[0;34m]\u001b[0m\u001b[0;34m)\u001b[0m\u001b[0;34m\u001b[0m\u001b[0m\n",
      "\u001b[0;32m~/.local/lib/python3.6/site-packages/sympy/core/sympify.py\u001b[0m in \u001b[0;36m_sympify\u001b[0;34m(a)\u001b[0m\n\u001b[1;32m    399\u001b[0m \u001b[0;34m\u001b[0m\u001b[0m\n\u001b[1;32m    400\u001b[0m     \"\"\"\n\u001b[0;32m--> 401\u001b[0;31m     \u001b[0;32mreturn\u001b[0m \u001b[0msympify\u001b[0m\u001b[0;34m(\u001b[0m\u001b[0ma\u001b[0m\u001b[0;34m,\u001b[0m \u001b[0mstrict\u001b[0m\u001b[0;34m=\u001b[0m\u001b[0;32mTrue\u001b[0m\u001b[0;34m)\u001b[0m\u001b[0;34m\u001b[0m\u001b[0m\n\u001b[0m\u001b[1;32m    402\u001b[0m \u001b[0;34m\u001b[0m\u001b[0m\n\u001b[1;32m    403\u001b[0m \u001b[0;34m\u001b[0m\u001b[0m\n",
      "\u001b[0;32m~/.local/lib/python3.6/site-packages/sympy/core/sympify.py\u001b[0m in \u001b[0;36msympify\u001b[0;34m(a, locals, convert_xor, strict, rational, evaluate)\u001b[0m\n\u001b[1;32m    321\u001b[0m \u001b[0;34m\u001b[0m\u001b[0m\n\u001b[1;32m    322\u001b[0m     \u001b[0;32mif\u001b[0m \u001b[0mstrict\u001b[0m\u001b[0;34m:\u001b[0m\u001b[0;34m\u001b[0m\u001b[0m\n\u001b[0;32m--> 323\u001b[0;31m         \u001b[0;32mraise\u001b[0m \u001b[0mSympifyError\u001b[0m\u001b[0;34m(\u001b[0m\u001b[0ma\u001b[0m\u001b[0;34m)\u001b[0m\u001b[0;34m\u001b[0m\u001b[0m\n\u001b[0m\u001b[1;32m    324\u001b[0m \u001b[0;34m\u001b[0m\u001b[0m\n\u001b[1;32m    325\u001b[0m     \u001b[0;32mif\u001b[0m \u001b[0miterable\u001b[0m\u001b[0;34m(\u001b[0m\u001b[0ma\u001b[0m\u001b[0;34m)\u001b[0m\u001b[0;34m:\u001b[0m\u001b[0;34m\u001b[0m\u001b[0m\n",
      "\u001b[0;31mSympifyError\u001b[0m: SympifyError: [0.25*(4.0*dt**2*h_x**2*h_y**2*(-2.0*u_x(t, x, y, z) + u_x(t, x, y, z - h_z) + u_x(t, x, y, z + h_z))*lame_2(x, y, z) + 4.0*dt**2*h_x**2*h_z**2*(-2.0*u_x(t, x, y, z) + u_x(t, x, y - h_y, z) + u_x(t, x, y + h_y, z))*lame_2(x, y, z) + dt**2*h_x*h_y**2*h_z*(lame_1(x, y, z)*u_z(t, x - h_x, y, z - h_z) - lame_1(x, y, z)*u_z(t, x - h_x, y, z + h_z) - lame_1(x, y, z)*u_z(t, x + h_x, y, z - h_z) + lame_1(x, y, z)*u_z(t, x + h_x, y, z + h_z) + lame_2(x, y, z)*u_z(t, x - h_x, y, z - h_z) - lame_2(x, y, z)*u_z(t, x - h_x, y, z + h_z) - lame_2(x, y, z)*u_z(t, x + h_x, y, z - h_z) + lame_2(x, y, z)*u_z(t, x + h_x, y, z + h_z)) + dt**2*h_x*h_y*h_z**2*(lame_1(x, y, z)*u_y(t, x - h_x, y - h_y, z) - lame_1(x, y, z)*u_y(t, x - h_x, y + h_y, z) - lame_1(x, y, z)*u_y(t, x + h_x, y - h_y, z) + lame_1(x, y, z)*u_y(t, x + h_x, y + h_y, z) + lame_2(x, y, z)*u_y(t, x - h_x, y - h_y, z) - lame_2(x, y, z)*u_y(t, x - h_x, y + h_y, z) - lame_2(x, y, z)*u_y(t, x + h_x, y - h_y, z) + lame_2(x, y, z)*u_y(t, x + h_x, y + h_y, z)) + 4.0*dt**2*h_y**2*h_z**2*(-2.0*lame_1(x, y, z)*u_x(t, x, y, z) + lame_1(x, y, z)*u_x(t, x - h_x, y, z) + lame_1(x, y, z)*u_x(t, x + h_x, y, z) - 4.0*lame_2(x, y, z)*u_x(t, x, y, z) + 2.0*lame_2(x, y, z)*u_x(t, x - h_x, y, z) + 2.0*lame_2(x, y, z)*u_x(t, x + h_x, y, z)) + 4.0*h_x**2*h_y**2*h_z**2*(2.0*u_x(t, x, y, z) - u_x(t - dt, x, y, z))*density(x, y, z))/(h_x**2*h_y**2*h_z**2*density(x, y, z))]"
     ]
    }
   ],
   "source": [
    "#Create the VectorTimeFunction\n",
    "u = VectorTimeFunction(name='u', grid=grid, time_order=2, space_order=2)\n",
    "\n",
    "#Set up the PDEs (source will only be injected on y vector)\n",
    "pde_x = density*u.x.dt2 - (lame_1 + 2*lame_2)*(u.x.dx2 + u.y.dy.dx + u.z.dz.dx) \\\n",
    "+ lame_2*(u.y.dy.dx - u.x.dy2 - u.x.dz2 + u.z.dz.dx)\n",
    "pde_y = density*u.y.dt2 - (lame_1 + 2*lame_2)*(u.x.dy.dx + u.y.dy2 + u.z.dz.dy) \\\n",
    "+ lame_2*(u.z.dz.dy - u.y.dz2 - u.y.dx2 + u.x.dy.dx)\n",
    "pde_z = density*u.z.dt2 - (lame_1 + 2*lame_2)*(u.x.dz.dx + u.y.dz.dy + u.z.dz2) \\\n",
    "+ lame_2*(u.x.dz.dx - u.z.dx2 - u.z.dy2 + u.y.dz.dy)\n",
    "\n",
    "\n",
    "stencil_x = Eq(u.x.forward, solve(pde_x, u.x.forward))\n",
    "stencil_y = Eq(u.y.forward, solve(pde_y, u.y.forward))\n",
    "stencil_x = Eq(u.z.forward, solve(pde_z, u.z.forward))\n",
    "\n",
    "#Define the source injection function\n",
    "src_term = src.inject(field=u.y.forward, expr=src * dt**2 / model.m, offset=model.nbpml)\n",
    "\n",
    "#Will have to generate own finite differencing mechanism, as devito cannot cope with mixed derivatives\n"
   ]
  },
  {
   "cell_type": "code",
   "execution_count": 38,
   "metadata": {},
   "outputs": [],
   "source": [
    "#Write a function to run operator for all wavefield components simultaneously\n",
    "op = Operator([stencil_y] + src_term, subs=model.spacing_map)\n",
    "op(time=time_range.num-1, dt=model.critical_dt)\n",
    "plot_field(u.data[0])"
   ]
  }
 ],
 "metadata": {
  "kernelspec": {
   "display_name": "Python [conda env:devito]",
   "language": "python",
   "name": "conda-env-devito-py"
  },
  "language_info": {
   "codemirror_mode": {
    "name": "ipython",
    "version": 3
   },
   "file_extension": ".py",
   "mimetype": "text/x-python",
   "name": "python",
   "nbconvert_exporter": "python",
   "pygments_lexer": "ipython3",
   "version": "3.6.6"
  }
 },
 "nbformat": 4,
 "nbformat_minor": 2
}
