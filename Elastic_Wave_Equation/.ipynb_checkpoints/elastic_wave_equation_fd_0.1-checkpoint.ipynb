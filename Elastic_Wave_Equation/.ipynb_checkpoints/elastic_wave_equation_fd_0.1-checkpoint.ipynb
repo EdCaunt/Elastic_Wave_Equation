{
 "cells": [
  {
   "cell_type": "code",
   "execution_count": 165,
   "metadata": {},
   "outputs": [],
   "source": [
    "from numpy import array, zeros, amin, amax\n",
    "from math import cos, sqrt, pi\n",
    "import matplotlib.pyplot\n",
    "%matplotlib inline"
   ]
  },
  {
   "cell_type": "code",
   "execution_count": 166,
   "metadata": {},
   "outputs": [],
   "source": [
    "#Define function for finite differencing stencils at each point\n",
    "def Dx2(cube, pos_x, pos_y, pos_z, ds):\n",
    "    \"\"\"A function to calculate the second order second derivative with respect to x\n",
    "    at a specifed point within a 3D data cube.\n",
    "    \n",
    "    :param cube = The 3D array to apply the function to\n",
    "    :param pos(_x, _y, _z) = The x, y, and z indexes at which to take the\n",
    "    second derivative\n",
    "    :param ds = The size of the finite differencing interval in space\"\"\"\n",
    "    \n",
    "    try:\n",
    "        #For interior points\n",
    "        return (cube[pos_x+1, pos_y, pos_z] - 2.*cube[pos_x, pos_y, pos_z] \\\n",
    "                + cube[pos_x-1, pos_y, pos_z])/ds**2\n",
    "    except:\n",
    "        #For points where stencil is out of bounds\n",
    "        try:\n",
    "            #If pos_x+1 is out of bounds (Fixed boundary condition)\n",
    "            return (cube[pos_x-1, pos_y, pos_z] - 2.*cube[pos_x, pos_y, pos_z])/ds**2\n",
    "        except:\n",
    "            #If pos_x-1 is out of bounds (Fixed boundary condition)\n",
    "            try:\n",
    "                return (cube[pos_x+1, pos_y, pos_z] - 2.*cube[pos_x, pos_y, pos_z])/ds**2\n",
    "            except:\n",
    "                raise IndexError('Function called out of array range.')\n",
    "        \n",
    "        \n",
    "def Dy2(cube, pos_x, pos_y, pos_z, ds):\n",
    "    \"\"\"A function to calculate the second order second derivative with respect to y\n",
    "    at a specifed point within a 3D data cube.\n",
    "    \n",
    "    :param cube = The 3D array to apply the function to\n",
    "    :param pos(_x, _y, _z) = The x, y, and z indexes at which to take the\n",
    "    second derivative\n",
    "    :param ds = The size of the finite differencing interval in space\"\"\"\n",
    "    \n",
    "    try:\n",
    "        #For interior points\n",
    "        return (cube[pos_x, pos_y+1, pos_z] - 2.*cube[pos_x, pos_y, pos_z] \\\n",
    "                + cube[pos_x, pos_y-1, pos_z])/ds**2\n",
    "    except:\n",
    "        #For points where stencil is out of bounds\n",
    "        try:\n",
    "            #If pos_y+1 is out of bounds (Fixed boundary condition)\n",
    "            return (cube[pos_x, pos_y-1, pos_z] - 2.*cube[pos_x, pos_y, pos_z])/ds**2\n",
    "        except:\n",
    "            #If pos_y-1 is out of bounds (Fixed boundary condition)\n",
    "            try:\n",
    "                return (cube[pos_x, pos_y+1, pos_z] - 2.*cube[pos_x, pos_y, pos_z])/ds**2\n",
    "            except:\n",
    "                raise IndexError('Function called out of array range.')\n",
    "        \n",
    "        \n",
    "def Dz2(cube, pos_x, pos_y, pos_z, ds):\n",
    "    \"\"\"A function to calculate the second order second derivative with respect to z\n",
    "    at a specifed point within a 3D data cube.\n",
    "    \n",
    "    :param cube = The 3D array to apply the function to\n",
    "    :param pos(_x, _y, _z) = The x, y, and z indexes at which to take the\n",
    "    second derivative\n",
    "    :param ds = The size of the finite differencing interval in space\"\"\"\n",
    "    \n",
    "    try:\n",
    "        #For interior points\n",
    "        return (cube[pos_x, pos_y, pos_z+1] - 2.*cube[pos_x, pos_y, pos_z] \\\n",
    "                + cube[pos_x, pos_y, pos_z-1])/ds**2\n",
    "    except:\n",
    "        #For points where stencil is out of bounds\n",
    "        try:\n",
    "            #If pos_z+1 is out of bounds (Fixed boundary condition)\n",
    "            return (cube[pos_x, pos_y, pos_z-1] - 2.*cube[pos_x, pos_y, pos_z])/ds**2\n",
    "        except:\n",
    "            #If pos_z-1 is out of bounds (Fixed boundary condition)\n",
    "            try:\n",
    "                return (cube[pos_x, pos_y, pos_z+1] - 2.*cube[pos_x, pos_y, pos_z])/ds**2\n",
    "            except:\n",
    "                raise IndexError('Function called out of array range.')\n",
    "    \n",
    "    \n",
    "def DyDx(cube, pos_x, pos_y, pos_z, ds):\n",
    "    \"\"\"A function to calculate the second order mixed second derivative with respect to x and y\n",
    "    at a specifed point within a 3D data cube.\n",
    "    \n",
    "    :param cube = The 3D array to apply the function to\n",
    "    :param pos(_x, _y, _z) = The x, y, and z indexes at which to take the\n",
    "    second derivative\n",
    "    :param ds = The size of the finite differencing interval in space\"\"\"\n",
    "    \n",
    "    #Big, ugly, nested try-except statements (apparently this is more efficient and better practice?)\n",
    "    try:\n",
    "        #For interior points\n",
    "        return (cube[pos_x+1, pos_y+1, pos_z] - cube[pos_x-1, pos_y+1, pos_z] \\\n",
    "                - cube[pos_x+1, pos_y-1, pos_z] + cube[pos_x-1, pos_y-1, pos_z])/(4.*ds**2)\n",
    "    \n",
    "    except:\n",
    "        #For points where stencil is out of bounds\n",
    "        try:\n",
    "            #If only pos_x+1 is out of bounds (Fixed boundary condition)\n",
    "            return (cube[pos_x-1, pos_y-1, pos_z] - cube[pos_x-1, pos_y+1, pos_z])/(4.*ds**2)\n",
    "        \n",
    "        except:\n",
    "            #If only pos_x-1 out of bounds (Fixed boundary condition)\n",
    "            try:\n",
    "                return (cube[pos_x+1, pos_y+1, pos_z] - cube[pos_x+1, pos_y-1, pos_z])/(4.*ds**2)\n",
    "            \n",
    "            except:\n",
    "                #If only pos_y+1 out of bounds (Fixed boundary condition)\n",
    "                try:\n",
    "                    return (cube[pos_x-1, pos_y-1, pos_z] - cube[pos_x+1, pos_y-1, pos_z])/(4.*ds**2)\n",
    "                \n",
    "                except:\n",
    "                    #If only pos_y-1 out of bounds (Fixed boundary condition)\n",
    "                    try:\n",
    "                        return (cube[pos_x+1, pos_y+1, pos_z] - cube[pos_x-1, pos_y+1, pos_z])/(4.*ds**2)\n",
    "                    \n",
    "                    except:\n",
    "                        #If both pos_x+1 and pos_y+1 out of bounds (Fixed boundary condition)\n",
    "                        try:\n",
    "                            return (cube[pos_x-1, pos_y-1, pos_z])/(4.*ds**2)\n",
    "                        \n",
    "                        except:\n",
    "                            #If both pos_x+1 and pos_y-1 out of bounds (Fixed boundary condition)\n",
    "                            try:\n",
    "                                return (-1*cube[pos_x-1, pos_y+1, pos_z])/(4.*ds**2)\n",
    "                            \n",
    "                            except:\n",
    "                                #If both pos_x-1 and pos_y-1 out of bounds (Fixed boundary condition)\n",
    "                                try:\n",
    "                                    return (cube[pos_x+1, pos_y+1, pos_z])/(4.*ds**2)\n",
    "                                \n",
    "                                except:\n",
    "                                    #If both pos_x-1 and pos_y+1 out of bounds (Fixed boundary condition)\n",
    "                                    try:\n",
    "                                        return (-1.*cube[pos_x+1, pos_y-1, pos_z])/(4.*ds**2)\n",
    "                                    except:\n",
    "                                        raise IndexError('Function called out of array range.')\n",
    "                \n",
    "            \n",
    "def DzDx(cube, pos_x, pos_y, pos_z, ds):\n",
    "    \"\"\"A function to calculate the second order mixed second derivative with respect to x and z\n",
    "    at a specifed point within a 3D data cube.\n",
    "    \n",
    "    :param cube = The 3D array to apply the function to\n",
    "    :param pos(_x, _y, _z) = The x, y, and z indexes at which to take the\n",
    "    second derivative\n",
    "    :param ds = The size of the finite differencing interval in space\"\"\"\n",
    "    \n",
    "    #Big, ugly, nested try-except statements (apparently this is more efficient and better practice?)\n",
    "    try:\n",
    "        #For interior points\n",
    "        return (cube[pos_x+1, pos_y, pos_z+1] - cube[pos_x-1, pos_y, pos_z+1] \\\n",
    "                - cube[pos_x+1, pos_y, pos_z-1] + cube[pos_x-1, pos_y, pos_z-1])/(4.*ds**2)\n",
    "    \n",
    "    except:\n",
    "        #For points where stencil is out of bounds\n",
    "        try:\n",
    "            #If only pos_x+1 is out of bounds (Fixed boundary condition)\n",
    "            return (cube[pos_x-1, pos_y, pos_z-1] - cube[pos_x-1, pos_y, pos_z+1])/(4.*ds**2)\n",
    "        \n",
    "        except:\n",
    "            #If only pos_x-1 out of bounds (Fixed boundary condition)\n",
    "            try:\n",
    "                return (cube[pos_x+1, pos_y, pos_z+1] - cube[pos_x+1, pos_y, pos_z-1])/(4.*ds**2)\n",
    "            \n",
    "            except:\n",
    "                #If only pos_z+1 out of bounds (Fixed boundary condition)\n",
    "                try:\n",
    "                    return (cube[pos_x-1, pos_y, pos_z-1] - cube[pos_x+1, pos_y, pos_z-1])/(4.*ds**2)\n",
    "                \n",
    "                except:\n",
    "                    #If only pos_z-1 out of bounds (Fixed boundary condition)\n",
    "                    try:\n",
    "                        return (cube[pos_x+1, pos_y, pos_z+1] - cube[pos_x-1, pos_y, pos_z+1])/(4.*ds**2)\n",
    "                    \n",
    "                    except:\n",
    "                        #If both pos_x+1 and pos_z+1 out of bounds (Fixed boundary condition)\n",
    "                        try:\n",
    "                            return (cube[pos_x-1, pos_y, pos_z-1])/(4.*ds**2)\n",
    "                        \n",
    "                        except:\n",
    "                            #If both pos_x+1 and pos_z-1 out of bounds (Fixed boundary condition)\n",
    "                            try:\n",
    "                                return (-1*cube[pos_x-1, pos_y, pos_z+1])/(4.*ds**2)\n",
    "                            \n",
    "                            except:\n",
    "                                #If both pos_x-1 and pos_z-1 out of bounds (Fixed boundary condition)\n",
    "                                try:\n",
    "                                    return (cube[pos_x+1, pos_y, pos_z+1])/(4.*ds**2)\n",
    "                                \n",
    "                                except:\n",
    "                                    #If both pos_x-1 and pos_z+1 out of bounds (Fixed boundary condition)\n",
    "                                    try:\n",
    "                                        return (-1.*cube[pos_x+1, pos_y, pos_z-1])/(4.*ds**2)\n",
    "                                    except:\n",
    "                                        raise IndexError('Function called out of array range.')\n",
    "                                        \n",
    "                                        \n",
    "def DzDy(cube, pos_x, pos_y, pos_z, ds):\n",
    "    \"\"\"A function to calculate the second order mixed second derivative with respect to y and z\n",
    "    at a specifed point within a 3D data cube.\n",
    "    \n",
    "    :param cube = The 3D array to apply the function to\n",
    "    :param pos(_x, _y, _z) = The x, y, and z indexes at which to take the\n",
    "    second derivative\n",
    "    :param ds = The size of the finite differencing interval in space\"\"\"\n",
    "    \n",
    "    #Big, ugly, nested try-except statements (apparently this is more efficient and better practice?)\n",
    "    try:\n",
    "        #For interior points\n",
    "        return (cube[pos_x, pos_y+1, pos_z+1] - cube[pos_x, pos_y-1, pos_z+1] \\\n",
    "                - cube[pos_x, pos_y+1, pos_z-1] + cube[pos_x, pos_y-1, pos_z-1])/(4.*ds**2)\n",
    "    \n",
    "    except:\n",
    "        #For points where stencil is out of bounds\n",
    "        try:\n",
    "            #If only pos_y+1 is out of bounds (Fixed boundary condition)\n",
    "            return (cube[pos_x, pos_y-1, pos_z-1] - cube[pos_x, pos_y-1, pos_z+1])/(4.*ds**2)\n",
    "        \n",
    "        except:\n",
    "            #If only pos_y-1 out of bounds (Fixed boundary condition)\n",
    "            try:\n",
    "                return (cube[pos_x, pos_y+1, pos_z+1] - cube[pos_x, pos_y+1, pos_z-1])/(4.*ds**2)\n",
    "            \n",
    "            except:\n",
    "                #If only pos_z+1 out of bounds (Fixed boundary condition)\n",
    "                try:\n",
    "                    return (cube[pos_x, pos_y-1, pos_z-1] - cube[pos_x, pos_y+1, pos_z-1])/(4.*ds**2)\n",
    "                \n",
    "                except:\n",
    "                    #If only pos_z-1 out of bounds (Fixed boundary condition)\n",
    "                    try:\n",
    "                        return (cube[pos_x, pos_y+1, pos_z+1] - cube[pos_x, pos_y-1, pos_z+1])/(4.*ds**2)\n",
    "                    \n",
    "                    except:\n",
    "                        #If both pos_y+1 and pos_z+1 out of bounds (Fixed boundary condition)\n",
    "                        try:\n",
    "                            return (cube[pos_x, pos_y-1, pos_z-1])/(4.*ds**2)\n",
    "                        \n",
    "                        except:\n",
    "                            #If both pos_y+1 and pos_z-1 out of bounds (Fixed boundary condition)\n",
    "                            try:\n",
    "                                return (-1*cube[pos_x, pos_y-1, pos_z+1])/(4.*ds**2)\n",
    "                            \n",
    "                            except:\n",
    "                                #If both pos_y-1 and pos_z-1 out of bounds (Fixed boundary condition)\n",
    "                                try:\n",
    "                                    return (cube[pos_x, pos_y+1, pos_z+1])/(4.*ds**2)\n",
    "                                \n",
    "                                except:\n",
    "                                    #If both pos_y-1 and pos_z+1 out of bounds (Fixed boundary condition)\n",
    "                                    try:\n",
    "                                        return (-1.*cube[pos_x, pos_y+1, pos_z-1])/(4.*ds**2)\n",
    "                                    except:\n",
    "                                        raise IndexError('Function called out of array range.')"
   ]
  },
  {
   "cell_type": "code",
   "execution_count": 167,
   "metadata": {},
   "outputs": [],
   "source": [
    "#Make a class to set up and contain the arrays\n",
    "class VectorCube:\n",
    "    \"\"\"A class containing a set of numpy arrays to store old, current, and new datasets for \n",
    "    the x, y, and z components of a vector field.\n",
    "    \n",
    "    :param lame_1: Numpy array to store the first Lame parameter of the medium at each point within the model\n",
    "    :param lame_2: Numpy array to store the second Lame parameter of the medium at each point within the model\n",
    "    :param rho: Numpy array to store the density of the medium at each point within the model\n",
    "    :param x_old: Numpy array to store the x component of the vector field at the previous timestep.\n",
    "    :param x_cur: Numpy array to store the x component of the vector field at the current timestep.\n",
    "    :param x_new: Numpy array to store the x component of the vector field at the next timestep.\n",
    "    :param y_old: Numpy array to store the y component of the vector field at the previous timestep.\n",
    "    :param y_cur: Numpy array to store the y component of the vector field at the current timestep.\n",
    "    :param y_new: Numpy array to store the y component of the vector field at the next timestep.\n",
    "    :param z_old: Numpy array to store the z component of the vector field at the previous timestep.\n",
    "    :param z_cur: Numpy array to store the z component of the vector field at the current timestep.\n",
    "    :param z_new: Numpy array to store the z component of the vector field at the next timestep.\n",
    "    :param steps_elapsed: The number of time steps between the initial and current states.\"\"\"\n",
    "    \n",
    "    def __init__(self, size_x, size_y, size_z):\n",
    "        self.steps_elapsed = 0 #When class is initialized, there will be no timesteps elapsed\n",
    "        self.lame_1 = zeros((size_x, size_y, size_z))\n",
    "        self.lame_2 = zeros((size_x, size_y, size_z))\n",
    "        self.rho = zeros((size_x, size_y, size_z))\n",
    "        self.x_old = zeros((size_x, size_y, size_z))\n",
    "        self.x_cur = zeros((size_x, size_y, size_z))\n",
    "        self.x_new = zeros((size_x, size_y, size_z))\n",
    "        self.y_old = zeros((size_x, size_y, size_z))\n",
    "        self.y_cur = zeros((size_x, size_y, size_z))\n",
    "        self.y_new = zeros((size_x, size_y, size_z))\n",
    "        self.z_old = zeros((size_x, size_y, size_z))\n",
    "        self.z_cur = zeros((size_x, size_y, size_z))\n",
    "        self.z_new = zeros((size_x, size_y, size_z))\n",
    "        \n",
    "        \n",
    "    def setup(self): #Function to initialise wavefield with cosine dome perturbation at centre in y direction\n",
    "        c_x = self.y_cur.shape[0]/2. #Center index of each array (can be non int for this purpose)\n",
    "        c_y = self.y_cur.shape[1]/2.\n",
    "        c_z = self.y_cur.shape[2]/2.\n",
    "        w = min(self.y_cur.shape[0], self.y_cur.shape[1], self.y_cur.shape[2]) #Array width\n",
    "        \n",
    "        for i in range(self.y_cur.shape[0]):\n",
    "            for j in range(self.y_cur.shape[1]):\n",
    "                for k in range(self.y_cur.shape[2]):\n",
    "                    r = sqrt((i-c_x)**2 + (j-c_y)**2 + (k-c_z)**2) #Radius of current position from center\n",
    "                    if r <= 0.4*w:\n",
    "                        self.y_cur[i,j,k] = 0.005 + 0.005*cos(pi*r/(0.4*w))\n",
    "        self.y_old = self.y_cur #Fill y for the backwards position\n",
    "        \n",
    "        self.lame_1[:,:,:] = 35e9\n",
    "        self.lame_2[:,:,:] = 30e9\n",
    "        self.rho[:,:,:] = 3000.\n",
    "    \n",
    "    def iterate(self, timesteps): #Function to propogate wavefield at critical dt\n",
    "        ds = 20. #20m between points on grid\n",
    "        dt = 0.1*ds/sqrt((amax(self.lame_1)+2*amax(self.lame_2))/amin(self.rho)) #Ensure scheme is stable\n",
    "        print(dt)\n",
    "        #dt = 0.00005\n",
    "        \n",
    "        for steps in range(timesteps):\n",
    "            for i in range(self.y_cur.shape[0]):\n",
    "                for j in range(self.y_cur.shape[1]):\n",
    "                    for k in range(self.y_cur.shape[2]):\n",
    "                        #For x component\n",
    "                        self.x_new[i,j,k] = (dt**2/self.rho[i,j,k])*(self.lame_1[i,j,k]+2*self.lame_2[i,j,k]) \\\n",
    "                        *(Dx2(self.x_cur,i,j,k,ds)+DyDx(self.y_cur,i,j,k,ds)+DzDx(self.z_cur,i,j,k,ds)) \\\n",
    "                        + (dt**2/self.rho[i,j,k])*self.lame_2[i,j,k]*(DyDx(self.y_cur,i,j,k,ds) \\\n",
    "                                                                      -Dy2(self.x_cur,i,j,k,ds) \\\n",
    "                                                                      -Dz2(self.x_cur,i,j,k,ds) \\\n",
    "                                                                      +DzDx(self.z_cur,i,j,k,ds)) \\\n",
    "                        + 2*self.x_cur[i,j,k] - self.x_old[i,j,k]\n",
    "                        \n",
    "\n",
    "                        #For y component\n",
    "                        self.y_new[i,j,k] = (dt**2/self.rho[i,j,k])*(self.lame_1[i,j,k]+2*self.lame_2[i,j,k]) \\\n",
    "                        *(DyDx(self.x_cur,i,j,k,ds)+Dy2(self.y_cur,i,j,k,ds)+DzDy(self.z_cur,i,j,k,ds)) \\\n",
    "                        + (dt**2/self.rho[i,j,k])*self.lame_2[i,j,k]*(DzDy(self.z_cur,i,j,k,ds) \\\n",
    "                                                                      -Dz2(self.y_cur,i,j,k,ds) \\\n",
    "                                                                      -Dx2(self.y_cur,i,j,k,ds) \\\n",
    "                                                                      +DyDx(self.x_cur,i,j,k,ds)) \\\n",
    "                        + 2*self.y_cur[i,j,k] - self.y_old[i,j,k]\n",
    "\n",
    "                        #For z component\n",
    "                        self.z_new[i,j,k] = (dt**2/self.rho[i,j,k])*(self.lame_1[i,j,k]+2*self.lame_2[i,j,k]) \\\n",
    "                        *(DzDx(self.x_cur,i,j,k,ds)+DzDy(self.y_cur,i,j,k,ds)+Dz2(self.z_cur,i,j,k,ds)) \\\n",
    "                        + (dt**2/self.rho[i,j,k])*self.lame_2[i,j,k]*(DzDx(self.x_cur,i,j,k,ds) \\\n",
    "                                                                      -Dx2(self.z_cur,i,j,k,ds) \\\n",
    "                                                                      -Dy2(self.z_cur,i,j,k,ds) \\\n",
    "                                                                      +DzDy(self.y_cur,i,j,k,ds)) \\\n",
    "                        + 2*self.z_cur[i,j,k] - self.z_old[i,j,k]\n",
    "\n",
    "                        #if i == j and j == k: #Diagnostic\n",
    "                            #print(self.x_new[i,j,k], self.y_new[i,j,k], self.z_new[i,j,k])\n",
    "            #Update arrays so that the forward time position becomes the current etc\n",
    "            self.x_old = self.x_cur.copy()\n",
    "            self.y_old = self.y_cur.copy()\n",
    "            self.z_old = self.z_cur.copy()\n",
    "            self.x_cur = self.x_new.copy()\n",
    "            self.y_cur = self.y_new.copy()\n",
    "            self.z_cur = self.z_new.copy()\n",
    "            self.steps_elapsed += 1\n",
    "\n",
    "\n",
    "    def display(self): #Function to display displacement vectors\n",
    "        matplotlib.pyplot.imshow(self.y_cur[25])\n",
    "        matplotlib.pyplot.colorbar()\n",
    "        \n"
   ]
  },
  {
   "cell_type": "code",
   "execution_count": 168,
   "metadata": {},
   "outputs": [
    {
     "data": {
      "image/png": "[encoded data removed]",
      "text/plain": [
       "<Figure size 432x288 with 2 Axes>"
      ]
     },
     "metadata": {
      "needs_background": "light"
     },
     "output_type": "display_data"
    }
   ],
   "source": [
    "testcube = VectorCube(50, 50, 50)\n",
    "testcube.setup()\n",
    "testcube.display()"
   ]
  },
  {
   "cell_type": "code",
   "execution_count": 169,
   "metadata": {},
   "outputs": [
    {
     "name": "stdout",
     "output_type": "stream",
     "text": [
      "0.0003554093266554554\n"
     ]
    },
    {
     "data": {
      "image/png": "[encoded data removed]",
      "text/plain": [
       "<Figure size 432x288 with 2 Axes>"
      ]
     },
     "metadata": {
      "needs_background": "light"
     },
     "output_type": "display_data"
    }
   ],
   "source": [
    "testcube.iterate(20)\n",
    "testcube.display()"
   ]
  },
  {
   "cell_type": "code",
   "execution_count": 170,
   "metadata": {},
   "outputs": [
    {
     "name": "stdout",
     "output_type": "stream",
     "text": [
      "0.0003554093266554554\n"
     ]
    },
    {
     "data": {
      "image/png": "[encoded data removed]",
      "text/plain": [
       "<Figure size 432x288 with 2 Axes>"
      ]
     },
     "metadata": {
      "needs_background": "light"
     },
     "output_type": "display_data"
    }
   ],
   "source": [
    "testcube.iterate(20)\n",
    "testcube.display()"
   ]
  },
  {
   "cell_type": "code",
   "execution_count": 171,
   "metadata": {},
   "outputs": [
    {
     "name": "stdout",
     "output_type": "stream",
     "text": [
      "0.0003554093266554554\n"
     ]
    },
    {
     "data": {
      "image/png": "[encoded data removed]",
      "text/plain": [
       "<Figure size 432x288 with 2 Axes>"
      ]
     },
     "metadata": {
      "needs_background": "light"
     },
     "output_type": "display_data"
    }
   ],
   "source": [
    "testcube.iterate(20)\n",
    "testcube.display()"
   ]
  },
  {
   "cell_type": "code",
   "execution_count": 172,
   "metadata": {},
   "outputs": [
    {
     "name": "stdout",
     "output_type": "stream",
     "text": [
      "0.0003554093266554554\n"
     ]
    },
    {
     "data": {
      "image/png": "[encoded data removed]",
      "text/plain": [
       "<Figure size 432x288 with 2 Axes>"
      ]
     },
     "metadata": {
      "needs_background": "light"
     },
     "output_type": "display_data"
    }
   ],
   "source": [
    "testcube.iterate(20)\n",
    "testcube.display()"
   ]
  },
  {
   "cell_type": "code",
   "execution_count": 173,
   "metadata": {},
   "outputs": [
    {
     "name": "stdout",
     "output_type": "stream",
     "text": [
      "0.0003554093266554554\n"
     ]
    },
    {
     "data": {
      "image/png": "[encoded data removed]",
      "text/plain": [
       "<Figure size 432x288 with 2 Axes>"
      ]
     },
     "metadata": {
      "needs_background": "light"
     },
     "output_type": "display_data"
    }
   ],
   "source": [
    "testcube.iterate(20)\n",
    "testcube.display()"
   ]
  },
  {
   "cell_type": "code",
   "execution_count": 174,
   "metadata": {},
   "outputs": [
    {
     "name": "stdout",
     "output_type": "stream",
     "text": [
      "0.0003554093266554554\n"
     ]
    },
    {
     "data": {
      "image/png": "[encoded data removed]",
      "text/plain": [
       "<Figure size 432x288 with 2 Axes>"
      ]
     },
     "metadata": {
      "needs_background": "light"
     },
     "output_type": "display_data"
    }
   ],
   "source": [
    "testcube.iterate(20)\n",
    "testcube.display()"
   ]
  },
  {
   "cell_type": "code",
   "execution_count": null,
   "metadata": {},
   "outputs": [],
   "source": []
  }
 ],
 "metadata": {
  "kernelspec": {
   "display_name": "Python [conda env:devito]",
   "language": "python",
   "name": "conda-env-devito-py"
  },
  "language_info": {
   "codemirror_mode": {
    "name": "ipython",
    "version": 3
   },
   "file_extension": ".py",
   "mimetype": "text/x-python",
   "name": "python",
   "nbconvert_exporter": "python",
   "pygments_lexer": "ipython3",
   "version": "3.6.6"
  }
 },
 "nbformat": 4,
 "nbformat_minor": 2
}
